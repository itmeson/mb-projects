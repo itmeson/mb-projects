{
 "metadata": {
  "name": "",
  "signature": "sha256:36e65bf85ecb97c09ab7fbc2198190958f728b45c963b33e98b8c06337cb504f"
 },
 "nbformat": 3,
 "nbformat_minor": 0,
 "worksheets": [
  {
   "cells": [
    {
     "cell_type": "code",
     "collapsed": false,
     "input": [
      "def timestep(currentPos=0, currentVel=0, currentAcc=0, dt=0.01, currentTime=0):\n",
      "    Pos = currentPos + currentVel*dt + 0.5*currentAcc*dt**2\n",
      "    Vel = currentVel + currentAcc*dt\n",
      "    Time = currentTime + dt\n",
      "    return (Pos, Vel, Time)\n",
      "\n",
      "\n",
      "timestep(currentAcc=2)"
     ],
     "language": "python",
     "metadata": {},
     "outputs": [
      {
       "metadata": {},
       "output_type": "pyout",
       "prompt_number": 9,
       "text": [
        "(0.0001, 0.02, 0.01)"
       ]
      }
     ],
     "prompt_number": 9
    },
    {
     "cell_type": "code",
     "collapsed": false,
     "input": [
      "data = [(0,0,0)]\n",
      "for i in range(100):\n",
      "    data.append(timestep(data[-1][0], data[-1][1], currentAcc=10, dt=1, currentTime = data[-1][2]))\n",
      "\n",
      "print data"
     ],
     "language": "python",
     "metadata": {},
     "outputs": [
      {
       "output_type": "stream",
       "stream": "stdout",
       "text": [
        "[(0, 0, 0), (5.0, 10, 1), (20.0, 20, 2), (45.0, 30, 3), (80.0, 40, 4), (125.0, 50, 5), (180.0, 60, 6), (245.0, 70, 7), (320.0, 80, 8), (405.0, 90, 9), (500.0, 100, 10), (605.0, 110, 11), (720.0, 120, 12), (845.0, 130, 13), (980.0, 140, 14), (1125.0, 150, 15), (1280.0, 160, 16), (1445.0, 170, 17), (1620.0, 180, 18), (1805.0, 190, 19), (2000.0, 200, 20), (2205.0, 210, 21), (2420.0, 220, 22), (2645.0, 230, 23), (2880.0, 240, 24), (3125.0, 250, 25), (3380.0, 260, 26), (3645.0, 270, 27), (3920.0, 280, 28), (4205.0, 290, 29), (4500.0, 300, 30), (4805.0, 310, 31), (5120.0, 320, 32), (5445.0, 330, 33), (5780.0, 340, 34), (6125.0, 350, 35), (6480.0, 360, 36), (6845.0, 370, 37), (7220.0, 380, 38), (7605.0, 390, 39), (8000.0, 400, 40), (8405.0, 410, 41), (8820.0, 420, 42), (9245.0, 430, 43), (9680.0, 440, 44), (10125.0, 450, 45), (10580.0, 460, 46), (11045.0, 470, 47), (11520.0, 480, 48), (12005.0, 490, 49), (12500.0, 500, 50), (13005.0, 510, 51), (13520.0, 520, 52), (14045.0, 530, 53), (14580.0, 540, 54), (15125.0, 550, 55), (15680.0, 560, 56), (16245.0, 570, 57), (16820.0, 580, 58), (17405.0, 590, 59), (18000.0, 600, 60), (18605.0, 610, 61), (19220.0, 620, 62), (19845.0, 630, 63), (20480.0, 640, 64), (21125.0, 650, 65), (21780.0, 660, 66), (22445.0, 670, 67), (23120.0, 680, 68), (23805.0, 690, 69), (24500.0, 700, 70), (25205.0, 710, 71), (25920.0, 720, 72), (26645.0, 730, 73), (27380.0, 740, 74), (28125.0, 750, 75), (28880.0, 760, 76), (29645.0, 770, 77), (30420.0, 780, 78), (31205.0, 790, 79), (32000.0, 800, 80), (32805.0, 810, 81), (33620.0, 820, 82), (34445.0, 830, 83), (35280.0, 840, 84), (36125.0, 850, 85), (36980.0, 860, 86), (37845.0, 870, 87), (38720.0, 880, 88), (39605.0, 890, 89), (40500.0, 900, 90), (41405.0, 910, 91), (42320.0, 920, 92), (43245.0, 930, 93), (44180.0, 940, 94), (45125.0, 950, 95), (46080.0, 960, 96), (47045.0, 970, 97), (48020.0, 980, 98), (49005.0, 990, 99), (50000.0, 1000, 100)]\n"
       ]
      }
     ],
     "prompt_number": 15
    },
    {
     "cell_type": "code",
     "collapsed": false,
     "input": [
      "f = open('dat.csv', 'w')\n",
      "for dat in data:\n",
      "    f.write(str(dat[0]) + \",\" + str(dat[1]) + ',' + str(dat[2]) +  '\\n')\n",
      "f.close()"
     ],
     "language": "python",
     "metadata": {},
     "outputs": [],
     "prompt_number": 14
    },
    {
     "cell_type": "code",
     "collapsed": false,
     "input": [
      "g = 10\n",
      "aStage1 = 15\n",
      "aStage2 = 12\n",
      "Stage1Burn = 5 #seconds\n",
      "Stage2Burn = 3 #seconds\n",
      "selfDestruct = 12 #seconds\n",
      "data = [(0,0,0)]\n",
      "currentTime = 0\n",
      "currentPos = 0\n",
      "\n",
      "while :\n",
      "    if currentTime > selfDestruct or currentPos < 0:\n",
      "        break\n",
      "    if currentTime <= Stage1Burn:\n",
      "        currentAcc = aStage1 - g\n",
      "    elif currentTime > Stage1Burn and currentTime < Stage1Burn + Stage2Burn:\n",
      "        currentAcc = aStage2 - g\n",
      "    else:\n",
      "        currentAcc = g\n",
      "        data.append(timestep(data[-1][0], data[-1][1], currentAcc=currentAcc, dt=1, currentTime = data[-1][2]))\n",
      "        currentTime = data[-1][2]\n",
      "        currentPos = data[-1][0]\n",
      "\n",
      "print data"
     ],
     "language": "python",
     "metadata": {},
     "outputs": [
      {
       "ename": "KeyboardInterrupt",
       "evalue": "",
       "output_type": "pyerr",
       "traceback": [
        "\u001b[1;31m---------------------------------------------------------------------------\u001b[0m\n\u001b[1;31mKeyboardInterrupt\u001b[0m                         Traceback (most recent call last)",
        "\u001b[1;32m<ipython-input-19-bab367e0e11e>\u001b[0m in \u001b[0;36m<module>\u001b[1;34m()\u001b[0m\n\u001b[0;32m     10\u001b[0m \u001b[1;33m\u001b[0m\u001b[0m\n\u001b[0;32m     11\u001b[0m \u001b[1;32mwhile\u001b[0m \u001b[0mTrue\u001b[0m\u001b[1;33m:\u001b[0m\u001b[1;33m\u001b[0m\u001b[0m\n\u001b[1;32m---> 12\u001b[1;33m     \u001b[1;32mif\u001b[0m \u001b[0mcurrentTime\u001b[0m \u001b[1;33m>\u001b[0m \u001b[0mselfDestruct\u001b[0m \u001b[1;32mor\u001b[0m \u001b[0mcurrentPos\u001b[0m \u001b[1;33m<\u001b[0m \u001b[1;36m0\u001b[0m\u001b[1;33m:\u001b[0m\u001b[1;33m\u001b[0m\u001b[0m\n\u001b[0m\u001b[0;32m     13\u001b[0m         \u001b[1;32mbreak\u001b[0m\u001b[1;33m\u001b[0m\u001b[0m\n\u001b[0;32m     14\u001b[0m     \u001b[1;32mif\u001b[0m \u001b[0mcurrentTime\u001b[0m \u001b[1;33m<=\u001b[0m \u001b[0mStage1Burn\u001b[0m\u001b[1;33m:\u001b[0m\u001b[1;33m\u001b[0m\u001b[0m\n",
        "\u001b[1;31mKeyboardInterrupt\u001b[0m: "
       ]
      }
     ],
     "prompt_number": 19
    },
    {
     "cell_type": "code",
     "collapsed": false,
     "input": [
      "data"
     ],
     "language": "python",
     "metadata": {},
     "outputs": [
      {
       "metadata": {},
       "output_type": "pyout",
       "prompt_number": 21,
       "text": [
        "[(0, 0, 0)]"
       ]
      }
     ],
     "prompt_number": 21
    },
    {
     "cell_type": "code",
     "collapsed": false,
     "input": [],
     "language": "python",
     "metadata": {},
     "outputs": []
    }
   ],
   "metadata": {}
  }
 ]
}